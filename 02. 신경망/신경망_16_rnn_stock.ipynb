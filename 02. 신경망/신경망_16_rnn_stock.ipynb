{
 "cells": [
  {
   "cell_type": "markdown",
   "metadata": {},
   "source": [
    "## 자연어 처리 딥러닝\n",
    "# 주가 분석\n",
    "- https://finance.yahoo.com/quote/005930.KS/history?p=005930.KS (삼성전자)\n",
    "- https://finance.yahoo.com/quote/%5EKS11/history?p=%5EKS11 (KOSPI)\n",
    "- https://finance.yahoo.com/quote/035420.KS/history?p=035420.KS (Naver)\n",
    "\n",
    "- https://m.blog.naver.com/tkdlqm2/221575377059\n",
    "- https://medium.com/datadriveninvestor/multivariate-time-series-using-rnn-with-keras-7f78f4488679"
   ]
  },
  {
   "cell_type": "code",
   "execution_count": 1,
   "metadata": {
    "ExecuteTime": {
     "end_time": "2022-06-19T12:01:33.695687Z",
     "start_time": "2022-06-19T12:01:26.719373Z"
    }
   },
   "outputs": [],
   "source": [
    "import numpy as np\n",
    "import matplotlib.pyplot as plt\n",
    "import pandas as pd\n",
    "\n",
    "from tensorflow import keras"
   ]
  },
  {
   "cell_type": "code",
   "execution_count": 2,
   "metadata": {
    "ExecuteTime": {
     "end_time": "2022-06-19T12:01:33.743676Z",
     "start_time": "2022-06-19T12:01:33.698683Z"
    }
   },
   "outputs": [
    {
     "data": {
      "text/html": [
       "<div>\n",
       "<style scoped>\n",
       "    .dataframe tbody tr th:only-of-type {\n",
       "        vertical-align: middle;\n",
       "    }\n",
       "\n",
       "    .dataframe tbody tr th {\n",
       "        vertical-align: top;\n",
       "    }\n",
       "\n",
       "    .dataframe thead th {\n",
       "        text-align: right;\n",
       "    }\n",
       "</style>\n",
       "<table border=\"1\" class=\"dataframe\">\n",
       "  <thead>\n",
       "    <tr style=\"text-align: right;\">\n",
       "      <th></th>\n",
       "      <th>Date</th>\n",
       "      <th>Open</th>\n",
       "      <th>High</th>\n",
       "      <th>Low</th>\n",
       "      <th>Close</th>\n",
       "      <th>Adj Close</th>\n",
       "      <th>Volume</th>\n",
       "    </tr>\n",
       "  </thead>\n",
       "  <tbody>\n",
       "    <tr>\n",
       "      <th>0</th>\n",
       "      <td>2012-01-02</td>\n",
       "      <td>21400.0</td>\n",
       "      <td>21600.0</td>\n",
       "      <td>21300.0</td>\n",
       "      <td>21600.0</td>\n",
       "      <td>17500.316406</td>\n",
       "      <td>13151350</td>\n",
       "    </tr>\n",
       "    <tr>\n",
       "      <th>1</th>\n",
       "      <td>2012-01-03</td>\n",
       "      <td>21860.0</td>\n",
       "      <td>22100.0</td>\n",
       "      <td>21840.0</td>\n",
       "      <td>22100.0</td>\n",
       "      <td>17905.416016</td>\n",
       "      <td>16927750</td>\n",
       "    </tr>\n",
       "    <tr>\n",
       "      <th>2</th>\n",
       "      <td>2012-01-04</td>\n",
       "      <td>22100.0</td>\n",
       "      <td>22200.0</td>\n",
       "      <td>21500.0</td>\n",
       "      <td>21600.0</td>\n",
       "      <td>17500.316406</td>\n",
       "      <td>17103700</td>\n",
       "    </tr>\n",
       "    <tr>\n",
       "      <th>3</th>\n",
       "      <td>2012-01-05</td>\n",
       "      <td>21460.0</td>\n",
       "      <td>21580.0</td>\n",
       "      <td>21100.0</td>\n",
       "      <td>21100.0</td>\n",
       "      <td>17095.216797</td>\n",
       "      <td>17298400</td>\n",
       "    </tr>\n",
       "    <tr>\n",
       "      <th>4</th>\n",
       "      <td>2012-01-06</td>\n",
       "      <td>21120.0</td>\n",
       "      <td>21320.0</td>\n",
       "      <td>20600.0</td>\n",
       "      <td>20800.0</td>\n",
       "      <td>16852.156250</td>\n",
       "      <td>18816250</td>\n",
       "    </tr>\n",
       "  </tbody>\n",
       "</table>\n",
       "</div>"
      ],
      "text/plain": [
       "         Date     Open     High      Low    Close     Adj Close    Volume\n",
       "0  2012-01-02  21400.0  21600.0  21300.0  21600.0  17500.316406  13151350\n",
       "1  2012-01-03  21860.0  22100.0  21840.0  22100.0  17905.416016  16927750\n",
       "2  2012-01-04  22100.0  22200.0  21500.0  21600.0  17500.316406  17103700\n",
       "3  2012-01-05  21460.0  21580.0  21100.0  21100.0  17095.216797  17298400\n",
       "4  2012-01-06  21120.0  21320.0  20600.0  20800.0  16852.156250  18816250"
      ]
     },
     "execution_count": 2,
     "metadata": {},
     "output_type": "execute_result"
    }
   ],
   "source": [
    "stock_df = pd.read_csv('samsung_005930.KS.csv')\n",
    "stock_df.head()"
   ]
  },
  {
   "cell_type": "code",
   "execution_count": 3,
   "metadata": {
    "ExecuteTime": {
     "end_time": "2022-06-19T12:01:33.775660Z",
     "start_time": "2022-06-19T12:01:33.748660Z"
    }
   },
   "outputs": [
    {
     "data": {
      "text/html": [
       "<div>\n",
       "<style scoped>\n",
       "    .dataframe tbody tr th:only-of-type {\n",
       "        vertical-align: middle;\n",
       "    }\n",
       "\n",
       "    .dataframe tbody tr th {\n",
       "        vertical-align: top;\n",
       "    }\n",
       "\n",
       "    .dataframe thead th {\n",
       "        text-align: right;\n",
       "    }\n",
       "</style>\n",
       "<table border=\"1\" class=\"dataframe\">\n",
       "  <thead>\n",
       "    <tr style=\"text-align: right;\">\n",
       "      <th></th>\n",
       "      <th>Date</th>\n",
       "      <th>Open</th>\n",
       "      <th>High</th>\n",
       "      <th>Low</th>\n",
       "      <th>Close</th>\n",
       "      <th>Adj Close</th>\n",
       "      <th>Volume</th>\n",
       "    </tr>\n",
       "  </thead>\n",
       "  <tbody>\n",
       "    <tr>\n",
       "      <th>2567</th>\n",
       "      <td>2022-06-13</td>\n",
       "      <td>62400.0</td>\n",
       "      <td>62800.0</td>\n",
       "      <td>62100.0</td>\n",
       "      <td>62100.0</td>\n",
       "      <td>62100.0</td>\n",
       "      <td>22157816</td>\n",
       "    </tr>\n",
       "    <tr>\n",
       "      <th>2568</th>\n",
       "      <td>2022-06-14</td>\n",
       "      <td>61200.0</td>\n",
       "      <td>62200.0</td>\n",
       "      <td>61100.0</td>\n",
       "      <td>61900.0</td>\n",
       "      <td>61900.0</td>\n",
       "      <td>24606419</td>\n",
       "    </tr>\n",
       "    <tr>\n",
       "      <th>2569</th>\n",
       "      <td>2022-06-15</td>\n",
       "      <td>61300.0</td>\n",
       "      <td>61500.0</td>\n",
       "      <td>60200.0</td>\n",
       "      <td>60700.0</td>\n",
       "      <td>60700.0</td>\n",
       "      <td>26811224</td>\n",
       "    </tr>\n",
       "    <tr>\n",
       "      <th>2570</th>\n",
       "      <td>2022-06-16</td>\n",
       "      <td>61300.0</td>\n",
       "      <td>61800.0</td>\n",
       "      <td>60500.0</td>\n",
       "      <td>60900.0</td>\n",
       "      <td>60900.0</td>\n",
       "      <td>23394895</td>\n",
       "    </tr>\n",
       "    <tr>\n",
       "      <th>2571</th>\n",
       "      <td>2022-06-17</td>\n",
       "      <td>59400.0</td>\n",
       "      <td>59900.0</td>\n",
       "      <td>59400.0</td>\n",
       "      <td>59800.0</td>\n",
       "      <td>59800.0</td>\n",
       "      <td>29053450</td>\n",
       "    </tr>\n",
       "  </tbody>\n",
       "</table>\n",
       "</div>"
      ],
      "text/plain": [
       "            Date     Open     High      Low    Close  Adj Close    Volume\n",
       "2567  2022-06-13  62400.0  62800.0  62100.0  62100.0    62100.0  22157816\n",
       "2568  2022-06-14  61200.0  62200.0  61100.0  61900.0    61900.0  24606419\n",
       "2569  2022-06-15  61300.0  61500.0  60200.0  60700.0    60700.0  26811224\n",
       "2570  2022-06-16  61300.0  61800.0  60500.0  60900.0    60900.0  23394895\n",
       "2571  2022-06-17  59400.0  59900.0  59400.0  59800.0    59800.0  29053450"
      ]
     },
     "execution_count": 3,
     "metadata": {},
     "output_type": "execute_result"
    }
   ],
   "source": [
    "stock_df.tail()"
   ]
  },
  {
   "cell_type": "code",
   "execution_count": 4,
   "metadata": {
    "ExecuteTime": {
     "end_time": "2022-06-19T12:01:33.807620Z",
     "start_time": "2022-06-19T12:01:33.779635Z"
    }
   },
   "outputs": [
    {
     "name": "stdout",
     "output_type": "stream",
     "text": [
      "<class 'pandas.core.frame.DataFrame'>\n",
      "RangeIndex: 2572 entries, 0 to 2571\n",
      "Data columns (total 7 columns):\n",
      " #   Column     Non-Null Count  Dtype  \n",
      "---  ------     --------------  -----  \n",
      " 0   Date       2572 non-null   object \n",
      " 1   Open       2572 non-null   float64\n",
      " 2   High       2572 non-null   float64\n",
      " 3   Low        2572 non-null   float64\n",
      " 4   Close      2572 non-null   float64\n",
      " 5   Adj Close  2572 non-null   float64\n",
      " 6   Volume     2572 non-null   int64  \n",
      "dtypes: float64(5), int64(1), object(1)\n",
      "memory usage: 140.8+ KB\n"
     ]
    }
   ],
   "source": [
    "stock_df.info()"
   ]
  },
  {
   "cell_type": "code",
   "execution_count": 5,
   "metadata": {
    "ExecuteTime": {
     "end_time": "2022-06-19T12:01:33.839603Z",
     "start_time": "2022-06-19T12:01:33.812617Z"
    }
   },
   "outputs": [],
   "source": [
    "stock_df = stock_df.dropna() # 2019.8.2 데이터가 비어있음"
   ]
  },
  {
   "cell_type": "code",
   "execution_count": 6,
   "metadata": {
    "ExecuteTime": {
     "end_time": "2022-06-19T12:01:33.871585Z",
     "start_time": "2022-06-19T12:01:33.842600Z"
    }
   },
   "outputs": [
    {
     "name": "stdout",
     "output_type": "stream",
     "text": [
      "<class 'pandas.core.frame.DataFrame'>\n",
      "RangeIndex: 2572 entries, 0 to 2571\n",
      "Data columns (total 7 columns):\n",
      " #   Column     Non-Null Count  Dtype  \n",
      "---  ------     --------------  -----  \n",
      " 0   Date       2572 non-null   object \n",
      " 1   Open       2572 non-null   float64\n",
      " 2   High       2572 non-null   float64\n",
      " 3   Low        2572 non-null   float64\n",
      " 4   Close      2572 non-null   float64\n",
      " 5   Adj Close  2572 non-null   float64\n",
      " 6   Volume     2572 non-null   int64  \n",
      "dtypes: float64(5), int64(1), object(1)\n",
      "memory usage: 140.8+ KB\n"
     ]
    }
   ],
   "source": [
    "stock_df.info()"
   ]
  },
  {
   "cell_type": "code",
   "execution_count": 7,
   "metadata": {
    "ExecuteTime": {
     "end_time": "2022-06-19T12:01:33.919557Z",
     "start_time": "2022-06-19T12:01:33.906564Z"
    }
   },
   "outputs": [],
   "source": [
    "stock_df['average'] = (stock_df['High'] + stock_df['Low'])/2"
   ]
  },
  {
   "cell_type": "code",
   "execution_count": 8,
   "metadata": {
    "ExecuteTime": {
     "end_time": "2022-06-19T12:01:33.966529Z",
     "start_time": "2022-06-19T12:01:33.923555Z"
    }
   },
   "outputs": [
    {
     "data": {
      "text/html": [
       "<div>\n",
       "<style scoped>\n",
       "    .dataframe tbody tr th:only-of-type {\n",
       "        vertical-align: middle;\n",
       "    }\n",
       "\n",
       "    .dataframe tbody tr th {\n",
       "        vertical-align: top;\n",
       "    }\n",
       "\n",
       "    .dataframe thead th {\n",
       "        text-align: right;\n",
       "    }\n",
       "</style>\n",
       "<table border=\"1\" class=\"dataframe\">\n",
       "  <thead>\n",
       "    <tr style=\"text-align: right;\">\n",
       "      <th></th>\n",
       "      <th>Date</th>\n",
       "      <th>Open</th>\n",
       "      <th>High</th>\n",
       "      <th>Low</th>\n",
       "      <th>Close</th>\n",
       "      <th>Adj Close</th>\n",
       "      <th>Volume</th>\n",
       "      <th>average</th>\n",
       "    </tr>\n",
       "  </thead>\n",
       "  <tbody>\n",
       "    <tr>\n",
       "      <th>0</th>\n",
       "      <td>2012-01-02</td>\n",
       "      <td>21400.0</td>\n",
       "      <td>21600.0</td>\n",
       "      <td>21300.0</td>\n",
       "      <td>21600.0</td>\n",
       "      <td>17500.316406</td>\n",
       "      <td>13151350</td>\n",
       "      <td>21450.0</td>\n",
       "    </tr>\n",
       "    <tr>\n",
       "      <th>1</th>\n",
       "      <td>2012-01-03</td>\n",
       "      <td>21860.0</td>\n",
       "      <td>22100.0</td>\n",
       "      <td>21840.0</td>\n",
       "      <td>22100.0</td>\n",
       "      <td>17905.416016</td>\n",
       "      <td>16927750</td>\n",
       "      <td>21970.0</td>\n",
       "    </tr>\n",
       "  </tbody>\n",
       "</table>\n",
       "</div>"
      ],
      "text/plain": [
       "         Date     Open     High      Low    Close     Adj Close    Volume  \\\n",
       "0  2012-01-02  21400.0  21600.0  21300.0  21600.0  17500.316406  13151350   \n",
       "1  2012-01-03  21860.0  22100.0  21840.0  22100.0  17905.416016  16927750   \n",
       "\n",
       "   average  \n",
       "0  21450.0  \n",
       "1  21970.0  "
      ]
     },
     "execution_count": 8,
     "metadata": {},
     "output_type": "execute_result"
    }
   ],
   "source": [
    "stock_df.head(2)"
   ]
  },
  {
   "cell_type": "code",
   "execution_count": 9,
   "metadata": {
    "ExecuteTime": {
     "end_time": "2022-06-19T12:01:34.237395Z",
     "start_time": "2022-06-19T12:01:33.970528Z"
    }
   },
   "outputs": [
    {
     "data": {
      "text/plain": [
       "[<matplotlib.lines.Line2D at 0x24d4fb8ba60>]"
      ]
     },
     "execution_count": 9,
     "metadata": {},
     "output_type": "execute_result"
    },
    {
     "data": {
      "image/png": "[encoded data removed]",
      "text/plain": [
       "<Figure size 1296x360 with 1 Axes>"
      ]
     },
     "metadata": {
      "needs_background": "light"
     },
     "output_type": "display_data"
    }
   ],
   "source": [
    "plt.figure(figsize=(18,5))\n",
    "plt.plot(stock_df['Volume'])\n",
    "#plt.ylim(0,1000000)"
   ]
  },
  {
   "cell_type": "code",
   "execution_count": 10,
   "metadata": {
    "ExecuteTime": {
     "end_time": "2022-06-19T12:01:34.443256Z",
     "start_time": "2022-06-19T12:01:34.240371Z"
    }
   },
   "outputs": [
    {
     "data": {
      "text/plain": [
       "[<matplotlib.lines.Line2D at 0x24d502af640>]"
      ]
     },
     "execution_count": 10,
     "metadata": {},
     "output_type": "execute_result"
    },
    {
     "data": {
      "image/png": "[encoded data removed]",
      "text/plain": [
       "<Figure size 1296x360 with 1 Axes>"
      ]
     },
     "metadata": {
      "needs_background": "light"
     },
     "output_type": "display_data"
    }
   ],
   "source": [
    "plt.figure(figsize=(18,5))\n",
    "plt.plot(stock_df['average'])"
   ]
  },
  {
   "cell_type": "markdown",
   "metadata": {},
   "source": [
    "- 거래량과 일별평균주가로 데이터를 만든다"
   ]
  },
  {
   "cell_type": "code",
   "execution_count": 11,
   "metadata": {
    "ExecuteTime": {
     "end_time": "2022-06-19T12:01:34.459249Z",
     "start_time": "2022-06-19T12:01:34.446257Z"
    }
   },
   "outputs": [
    {
     "data": {
      "text/plain": [
       "(2572, 2)"
      ]
     },
     "execution_count": 11,
     "metadata": {},
     "output_type": "execute_result"
    }
   ],
   "source": [
    "stock = stock_df[['Volume','average']].values\n",
    "stock.shape"
   ]
  },
  {
   "cell_type": "markdown",
   "metadata": {},
   "source": [
    "### 학습용 데이터 생성"
   ]
  },
  {
   "cell_type": "code",
   "execution_count": 12,
   "metadata": {
    "ExecuteTime": {
     "end_time": "2022-06-19T12:01:34.475243Z",
     "start_time": "2022-06-19T12:01:34.463247Z"
    }
   },
   "outputs": [
    {
     "data": {
      "text/plain": [
       "(2572, 2)"
      ]
     },
     "execution_count": 12,
     "metadata": {},
     "output_type": "execute_result"
    }
   ],
   "source": [
    "stock.shape"
   ]
  },
  {
   "cell_type": "code",
   "execution_count": 13,
   "metadata": {
    "ExecuteTime": {
     "end_time": "2022-06-19T12:01:34.491227Z",
     "start_time": "2022-06-19T12:01:34.480235Z"
    }
   },
   "outputs": [],
   "source": [
    "lookback = 50 # 50일치 데이터로 시퀀스를 만든다"
   ]
  },
  {
   "cell_type": "code",
   "execution_count": 14,
   "metadata": {
    "ExecuteTime": {
     "end_time": "2022-06-19T12:01:34.523211Z",
     "start_time": "2022-06-19T12:01:34.496226Z"
    }
   },
   "outputs": [],
   "source": [
    "X = []\n",
    "y = []\n",
    "\n",
    "for i in range(len(stock)-lookback):\n",
    "    X.append(stock[i:i+lookback])\n",
    "    y.append(stock[i+lookback,[1]])"
   ]
  },
  {
   "cell_type": "code",
   "execution_count": 45,
   "metadata": {
    "ExecuteTime": {
     "end_time": "2022-06-19T12:06:23.252366Z",
     "start_time": "2022-06-19T12:06:23.227378Z"
    }
   },
   "outputs": [
    {
     "data": {
      "text/plain": [
       "((2522, 50, 2), (2522, 1))"
      ]
     },
     "execution_count": 45,
     "metadata": {},
     "output_type": "execute_result"
    }
   ],
   "source": [
    "X = np.array(X)\n",
    "y = np.array(y)\n",
    "\n",
    "X.shape, y.shape"
   ]
  },
  {
   "cell_type": "code",
   "execution_count": 46,
   "metadata": {
    "ExecuteTime": {
     "end_time": "2022-06-19T12:06:23.892929Z",
     "start_time": "2022-06-19T12:06:23.874939Z"
    }
   },
   "outputs": [],
   "source": [
    "X_train = X[:-200-lookback]\n",
    "X_test = X[-200:]\n",
    "y_train = y[:-200-lookback]\n",
    "y_test = y[-200:]"
   ]
  },
  {
   "cell_type": "code",
   "execution_count": 47,
   "metadata": {
    "ExecuteTime": {
     "end_time": "2022-06-19T12:06:24.936962Z",
     "start_time": "2022-06-19T12:06:24.917950Z"
    }
   },
   "outputs": [
    {
     "data": {
      "text/plain": [
       "((2272, 50, 2), (200, 50, 2), (2272, 1), (200, 1))"
      ]
     },
     "execution_count": 47,
     "metadata": {},
     "output_type": "execute_result"
    }
   ],
   "source": [
    "X_train.shape, X_test.shape, y_train.shape, y_test.shape"
   ]
  },
  {
   "cell_type": "code",
   "execution_count": null,
   "metadata": {},
   "outputs": [],
   "source": []
  },
  {
   "cell_type": "markdown",
   "metadata": {},
   "source": [
    "- 각 샘플 별로 정규화 적용"
   ]
  },
  {
   "cell_type": "code",
   "execution_count": 48,
   "metadata": {
    "ExecuteTime": {
     "end_time": "2022-06-19T12:07:29.193248Z",
     "start_time": "2022-06-19T12:07:29.030303Z"
    }
   },
   "outputs": [],
   "source": [
    "X = []\n",
    "Y = []\n",
    "\n",
    "for x,y in zip(X_train, y_train):\n",
    "    x_mean = x.mean(axis=0)\n",
    "    x_std = x.std(axis=0)\n",
    "    X.append((x-x_mean)/x_std)\n",
    "    Y.append([(y[0]-x_mean[1])/x_std[1]])"
   ]
  },
  {
   "cell_type": "code",
   "execution_count": 49,
   "metadata": {
    "ExecuteTime": {
     "end_time": "2022-06-19T12:07:29.413570Z",
     "start_time": "2022-06-19T12:07:29.384565Z"
    }
   },
   "outputs": [
    {
     "data": {
      "text/plain": [
       "((2272, 50, 2), (2272, 1))"
      ]
     },
     "execution_count": 49,
     "metadata": {},
     "output_type": "execute_result"
    }
   ],
   "source": [
    "np.array(X).shape, np.array(Y).shape"
   ]
  },
  {
   "cell_type": "code",
   "execution_count": 50,
   "metadata": {
    "ExecuteTime": {
     "end_time": "2022-06-19T12:07:29.788698Z",
     "start_time": "2022-06-19T12:07:29.774704Z"
    }
   },
   "outputs": [],
   "source": [
    "X_train = np.array(X)\n",
    "y_train = np.array(Y)"
   ]
  },
  {
   "cell_type": "code",
   "execution_count": null,
   "metadata": {},
   "outputs": [],
   "source": []
  },
  {
   "cell_type": "code",
   "execution_count": 51,
   "metadata": {
    "ExecuteTime": {
     "end_time": "2022-06-19T12:07:30.740596Z",
     "start_time": "2022-06-19T12:07:30.706615Z"
    }
   },
   "outputs": [],
   "source": [
    "X = []\n",
    "Y = []\n",
    "\n",
    "for x,y in zip(X_test, y_test):\n",
    "    x_mean = x.mean(axis=0)\n",
    "    x_std = x.std(axis=0)\n",
    "    X.append((x-x_mean)/x_std)\n",
    "    Y.append([(y[0]-x_mean[1])/x_std[1]])\n",
    "    \n",
    "X_test = np.array(X)\n",
    "y_test = np.array(Y)"
   ]
  },
  {
   "cell_type": "code",
   "execution_count": 52,
   "metadata": {
    "ExecuteTime": {
     "end_time": "2022-06-19T12:07:31.459605Z",
     "start_time": "2022-06-19T12:07:31.440614Z"
    }
   },
   "outputs": [
    {
     "data": {
      "text/plain": [
       "((200, 50, 2), (200, 1))"
      ]
     },
     "execution_count": 52,
     "metadata": {},
     "output_type": "execute_result"
    }
   ],
   "source": [
    "X_test.shape, y_test.shape"
   ]
  },
  {
   "cell_type": "markdown",
   "metadata": {},
   "source": [
    "### 모델 생성"
   ]
  },
  {
   "cell_type": "code",
   "execution_count": 53,
   "metadata": {
    "ExecuteTime": {
     "end_time": "2022-06-19T12:09:23.688421Z",
     "start_time": "2022-06-19T12:09:23.669432Z"
    }
   },
   "outputs": [],
   "source": [
    "from tensorflow.keras.models import Sequential\n",
    "from tensorflow.keras.layers import Dense, LSTM, BatchNormalization"
   ]
  },
  {
   "cell_type": "code",
   "execution_count": 54,
   "metadata": {
    "ExecuteTime": {
     "end_time": "2022-06-19T12:09:26.020067Z",
     "start_time": "2022-06-19T12:09:25.373461Z"
    }
   },
   "outputs": [
    {
     "name": "stdout",
     "output_type": "stream",
     "text": [
      "Model: \"sequential\"\n",
      "_________________________________________________________________\n",
      " Layer (type)                Output Shape              Param #   \n",
      "=================================================================\n",
      " lstm (LSTM)                 (None, 50, 32)            4480      \n",
      "                                                                 \n",
      " lstm_1 (LSTM)               (None, 50, 32)            8320      \n",
      "                                                                 \n",
      " lstm_2 (LSTM)               (None, 32)                8320      \n",
      "                                                                 \n",
      " dense (Dense)               (None, 1)                 33        \n",
      "                                                                 \n",
      "=================================================================\n",
      "Total params: 21,153\n",
      "Trainable params: 21,153\n",
      "Non-trainable params: 0\n",
      "_________________________________________________________________\n"
     ]
    }
   ],
   "source": [
    "model = Sequential()\n",
    "model.add(LSTM(32, return_sequences=True, activation='relu',\n",
    "              input_shape=(50,2))) # ReLU 적용 (회귀)\n",
    "model.add(LSTM(32, return_sequences=True, activation='relu')) # ReLU 적용 (회귀)\n",
    "model.add(LSTM(32))\n",
    "model.add(Dense(1))\n",
    "\n",
    "model.summary()"
   ]
  },
  {
   "cell_type": "code",
   "execution_count": 55,
   "metadata": {
    "ExecuteTime": {
     "end_time": "2022-06-19T12:09:26.051061Z",
     "start_time": "2022-06-19T12:09:26.025068Z"
    }
   },
   "outputs": [],
   "source": [
    "model.compile(loss='mse', optimizer='adam')"
   ]
  },
  {
   "cell_type": "code",
   "execution_count": 56,
   "metadata": {
    "ExecuteTime": {
     "end_time": "2022-06-19T12:10:34.745543Z",
     "start_time": "2022-06-19T12:09:26.055056Z"
    },
    "scrolled": true
   },
   "outputs": [
    {
     "name": "stdout",
     "output_type": "stream",
     "text": [
      "Epoch 1/20\n",
      "71/71 [==============================] - 8s 65ms/step - loss: 1.2672 - val_loss: 0.7001\n",
      "Epoch 2/20\n",
      "71/71 [==============================] - 3s 43ms/step - loss: 0.5601 - val_loss: 0.2227\n",
      "Epoch 3/20\n",
      "71/71 [==============================] - 3s 44ms/step - loss: 0.2726 - val_loss: 0.1678\n",
      "Epoch 4/20\n",
      "71/71 [==============================] - 3s 43ms/step - loss: 0.1909 - val_loss: 0.1399\n",
      "Epoch 5/20\n",
      "71/71 [==============================] - 3s 43ms/step - loss: 0.1715 - val_loss: 0.1641\n",
      "Epoch 6/20\n",
      "71/71 [==============================] - 3s 43ms/step - loss: 0.1700 - val_loss: 0.1446\n",
      "Epoch 7/20\n",
      "71/71 [==============================] - 3s 43ms/step - loss: 0.1643 - val_loss: 0.1271\n",
      "Epoch 8/20\n",
      "71/71 [==============================] - 3s 43ms/step - loss: 0.1724 - val_loss: 0.1283\n",
      "Epoch 9/20\n",
      "71/71 [==============================] - 3s 43ms/step - loss: 0.1604 - val_loss: 0.1250\n",
      "Epoch 10/20\n",
      "71/71 [==============================] - 3s 43ms/step - loss: 0.1649 - val_loss: 0.1307\n",
      "Epoch 11/20\n",
      "71/71 [==============================] - 3s 43ms/step - loss: 0.1553 - val_loss: 0.1351\n",
      "Epoch 12/20\n",
      "71/71 [==============================] - 3s 43ms/step - loss: 0.1628 - val_loss: 0.1407\n",
      "Epoch 13/20\n",
      "71/71 [==============================] - 3s 44ms/step - loss: 0.1627 - val_loss: 0.1367\n",
      "Epoch 14/20\n",
      "71/71 [==============================] - 3s 46ms/step - loss: 0.1548 - val_loss: 0.1637\n",
      "Epoch 15/20\n",
      "71/71 [==============================] - 3s 47ms/step - loss: 0.1560 - val_loss: 0.1347\n",
      "Epoch 16/20\n",
      "71/71 [==============================] - 3s 48ms/step - loss: 0.1565 - val_loss: 0.1247\n",
      "Epoch 17/20\n",
      "71/71 [==============================] - 3s 43ms/step - loss: 0.1583 - val_loss: 0.1282\n",
      "Epoch 18/20\n",
      "71/71 [==============================] - 3s 44ms/step - loss: 0.1582 - val_loss: 0.1195\n",
      "Epoch 19/20\n",
      "71/71 [==============================] - 3s 48ms/step - loss: 0.1513 - val_loss: 0.1216\n",
      "Epoch 20/20\n",
      "71/71 [==============================] - 4s 54ms/step - loss: 0.1520 - val_loss: 0.1294\n"
     ]
    }
   ],
   "source": [
    "h = model.fit(X_train, y_train, batch_size=32, epochs=20,\n",
    "              validation_data=(X_test, y_test))"
   ]
  },
  {
   "cell_type": "code",
   "execution_count": 57,
   "metadata": {
    "ExecuteTime": {
     "end_time": "2022-06-19T12:10:35.398169Z",
     "start_time": "2022-06-19T12:10:34.750541Z"
    }
   },
   "outputs": [
    {
     "data": {
      "text/plain": [
       "<matplotlib.legend.Legend at 0x24d58ff42b0>"
      ]
     },
     "execution_count": 57,
     "metadata": {},
     "output_type": "execute_result"
    },
    {
     "data": {
      "image/png": "[encoded data removed]",
      "text/plain": [
       "<Figure size 432x288 with 1 Axes>"
      ]
     },
     "metadata": {
      "needs_background": "light"
     },
     "output_type": "display_data"
    }
   ],
   "source": [
    "plt.plot(h.history['loss'])\n",
    "plt.plot(h.history['val_loss'])\n",
    "plt.legend(['loss', 'val_loss'])"
   ]
  },
  {
   "cell_type": "markdown",
   "metadata": {},
   "source": [
    "### 평가"
   ]
  },
  {
   "cell_type": "code",
   "execution_count": 58,
   "metadata": {
    "ExecuteTime": {
     "end_time": "2022-06-19T12:10:35.446143Z",
     "start_time": "2022-06-19T12:10:35.402167Z"
    }
   },
   "outputs": [],
   "source": [
    "X = []\n",
    "y = []\n",
    "\n",
    "for i in range(len(stock)-lookback):\n",
    "    X.append(stock[i:i+lookback])\n",
    "    y.append(stock[i+lookback,[1]])"
   ]
  },
  {
   "cell_type": "code",
   "execution_count": 59,
   "metadata": {
    "ExecuteTime": {
     "end_time": "2022-06-19T12:10:35.476126Z",
     "start_time": "2022-06-19T12:10:35.450140Z"
    }
   },
   "outputs": [
    {
     "data": {
      "text/plain": [
       "((2522, 50, 2), (2522, 1))"
      ]
     },
     "execution_count": 59,
     "metadata": {},
     "output_type": "execute_result"
    }
   ],
   "source": [
    "X = np.array(X)\n",
    "y = np.array(y)\n",
    "\n",
    "X.shape, y.shape"
   ]
  },
  {
   "cell_type": "code",
   "execution_count": 60,
   "metadata": {
    "ExecuteTime": {
     "end_time": "2022-06-19T12:10:35.492117Z",
     "start_time": "2022-06-19T12:10:35.480123Z"
    }
   },
   "outputs": [],
   "source": [
    "_X_train = X[:-200-lookback]\n",
    "_X_test = X[-200:]\n",
    "_y_train = y[:-200-lookback]\n",
    "_y_test = y[-200:]"
   ]
  },
  {
   "cell_type": "code",
   "execution_count": 61,
   "metadata": {
    "ExecuteTime": {
     "end_time": "2022-06-19T12:10:35.523098Z",
     "start_time": "2022-06-19T12:10:35.498113Z"
    }
   },
   "outputs": [
    {
     "data": {
      "text/plain": [
       "((2272, 50, 2), (200, 50, 2), (2272, 1), (200, 1))"
      ]
     },
     "execution_count": 61,
     "metadata": {},
     "output_type": "execute_result"
    }
   ],
   "source": [
    "_X_train.shape, _X_test.shape, _y_train.shape, _y_test.shape"
   ]
  },
  {
   "cell_type": "code",
   "execution_count": null,
   "metadata": {},
   "outputs": [],
   "source": []
  },
  {
   "cell_type": "code",
   "execution_count": 62,
   "metadata": {
    "ExecuteTime": {
     "end_time": "2022-06-19T12:10:37.161109Z",
     "start_time": "2022-06-19T12:10:35.528096Z"
    }
   },
   "outputs": [
    {
     "data": {
      "text/plain": [
       "array([[-3.02150846e+00],\n",
       "       [-2.90803742e+00],\n",
       "       [-2.52007270e+00],\n",
       "       [-1.88443828e+00],\n",
       "       [-1.46194720e+00],\n",
       "       [-1.56736219e+00],\n",
       "       [-1.87618315e+00],\n",
       "       [-1.63818228e+00],\n",
       "       [-1.30407274e+00],\n",
       "       [-8.99104655e-01],\n",
       "       [-9.93319631e-01],\n",
       "       [-8.84042919e-01],\n",
       "       [-4.99556184e-01],\n",
       "       [-7.85679936e-01],\n",
       "       [-8.97479475e-01],\n",
       "       [-8.81448269e-01],\n",
       "       [-1.08656728e+00],\n",
       "       [-8.01860690e-01],\n",
       "       [ 2.72186473e-04],\n",
       "       [-3.61552656e-01],\n",
       "       [-3.73010159e-01],\n",
       "       [-3.76407921e-01],\n",
       "       [ 2.45340187e-02],\n",
       "       [ 1.99385453e-02],\n",
       "       [-2.60288399e-02],\n",
       "       [-1.49008855e-01],\n",
       "       [-1.35797668e+00],\n",
       "       [-1.18942487e+00],\n",
       "       [-1.44377184e+00],\n",
       "       [-1.94505024e+00],\n",
       "       [-1.82167971e+00],\n",
       "       [-1.83633685e+00],\n",
       "       [-1.67134678e+00],\n",
       "       [-2.39744663e+00],\n",
       "       [-2.37842321e+00],\n",
       "       [-2.08748507e+00],\n",
       "       [-1.57142782e+00],\n",
       "       [-1.78141582e+00],\n",
       "       [-1.40714753e+00],\n",
       "       [-1.40308750e+00],\n",
       "       [-1.45325243e+00],\n",
       "       [-1.38516259e+00],\n",
       "       [-1.46470058e+00],\n",
       "       [-1.06125176e+00],\n",
       "       [-1.30877936e+00],\n",
       "       [-1.05017626e+00],\n",
       "       [-1.17956269e+00],\n",
       "       [-1.41195881e+00],\n",
       "       [-6.95026577e-01],\n",
       "       [-1.10094619e+00],\n",
       "       [-9.56383169e-01],\n",
       "       [-9.32430387e-01],\n",
       "       [-1.19881451e+00],\n",
       "       [-9.31743383e-01],\n",
       "       [-9.20846283e-01],\n",
       "       [-1.15508592e+00],\n",
       "       [-7.89692760e-01],\n",
       "       [-3.40168536e-01],\n",
       "       [-3.47163498e-01],\n",
       "       [-6.09714806e-01],\n",
       "       [-7.37629116e-01],\n",
       "       [-5.46596646e-01],\n",
       "       [ 1.50027084e+00],\n",
       "       [ 1.29070032e+00],\n",
       "       [ 8.51914585e-01],\n",
       "       [ 7.35639453e-01],\n",
       "       [ 1.15656301e-01],\n",
       "       [-1.42548740e-01],\n",
       "       [ 1.32157225e-02],\n",
       "       [ 7.26290941e-01],\n",
       "       [ 1.66997564e+00],\n",
       "       [ 1.51702821e+00],\n",
       "       [ 1.90727842e+00],\n",
       "       [ 2.30393982e+00],\n",
       "       [ 2.82023978e+00],\n",
       "       [ 2.45669961e+00],\n",
       "       [ 2.29171324e+00],\n",
       "       [ 2.10430264e+00],\n",
       "       [ 1.78925741e+00],\n",
       "       [ 1.82591438e+00],\n",
       "       [ 2.09274387e+00],\n",
       "       [ 1.67343771e+00],\n",
       "       [ 1.62815094e+00],\n",
       "       [ 1.80942023e+00],\n",
       "       [ 2.15430760e+00],\n",
       "       [ 2.12200761e+00],\n",
       "       [ 2.24195361e+00],\n",
       "       [ 1.97479439e+00],\n",
       "       [ 1.78376508e+00],\n",
       "       [ 1.50132406e+00],\n",
       "       [ 1.43807137e+00],\n",
       "       [ 1.37360322e+00],\n",
       "       [ 8.54480743e-01],\n",
       "       [ 8.70486140e-01],\n",
       "       [ 1.04350936e+00],\n",
       "       [ 9.23525691e-01],\n",
       "       [ 1.11763299e+00],\n",
       "       [ 1.27990878e+00],\n",
       "       [ 1.00361407e+00],\n",
       "       [ 7.49134600e-01],\n",
       "       [ 6.93739533e-01],\n",
       "       [ 5.81273198e-01],\n",
       "       [ 2.88920045e-01],\n",
       "       [ 2.34895438e-01],\n",
       "       [-2.23769262e-01],\n",
       "       [-2.26519763e-01],\n",
       "       [-8.11541200e-01],\n",
       "       [-7.35740721e-01],\n",
       "       [-1.49235928e+00],\n",
       "       [-1.53599203e+00],\n",
       "       [-8.31603765e-01],\n",
       "       [-1.14795232e+00],\n",
       "       [-1.55659568e+00],\n",
       "       [-1.37552261e+00],\n",
       "       [-1.34035981e+00],\n",
       "       [-1.96305990e-01],\n",
       "       [-5.45777500e-01],\n",
       "       [-1.39988828e+00],\n",
       "       [-1.32014346e+00],\n",
       "       [-8.63697290e-01],\n",
       "       [-6.16337419e-01],\n",
       "       [-1.14099312e+00],\n",
       "       [-1.02946723e+00],\n",
       "       [-9.67512429e-01],\n",
       "       [-9.12637353e-01],\n",
       "       [-2.02288604e+00],\n",
       "       [-1.45761096e+00],\n",
       "       [-1.55406225e+00],\n",
       "       [-1.52214563e+00],\n",
       "       [-1.07278550e+00],\n",
       "       [-1.12711501e+00],\n",
       "       [-2.28453565e+00],\n",
       "       [-2.26363873e+00],\n",
       "       [-1.92475474e+00],\n",
       "       [-1.59533274e+00],\n",
       "       [-1.66359365e+00],\n",
       "       [-1.54023743e+00],\n",
       "       [-1.50243282e+00],\n",
       "       [-1.36753929e+00],\n",
       "       [-1.20284688e+00],\n",
       "       [-1.23659587e+00],\n",
       "       [-1.38659513e+00],\n",
       "       [-1.04677093e+00],\n",
       "       [-1.51085579e+00],\n",
       "       [-1.36653852e+00],\n",
       "       [-1.40428555e+00],\n",
       "       [-1.16234112e+00],\n",
       "       [-1.11180258e+00],\n",
       "       [-1.21461880e+00],\n",
       "       [-1.48207021e+00],\n",
       "       [-1.52348125e+00],\n",
       "       [-1.31959522e+00],\n",
       "       [-1.64112437e+00],\n",
       "       [-1.75077891e+00],\n",
       "       [-1.71772492e+00],\n",
       "       [-1.77071941e+00],\n",
       "       [-1.84440804e+00],\n",
       "       [-1.38202906e+00],\n",
       "       [-1.39882362e+00],\n",
       "       [-1.82423675e+00],\n",
       "       [-1.79487407e+00],\n",
       "       [-1.38928688e+00],\n",
       "       [-1.57902014e+00],\n",
       "       [-1.06247151e+00],\n",
       "       [-1.41052222e+00],\n",
       "       [-1.54700994e+00],\n",
       "       [-1.52172458e+00],\n",
       "       [-1.99301255e+00],\n",
       "       [-1.90566576e+00],\n",
       "       [-1.19554055e+00],\n",
       "       [-9.79675233e-01],\n",
       "       [-5.73291779e-01],\n",
       "       [-5.36615491e-01],\n",
       "       [-1.18255818e+00],\n",
       "       [-1.64607799e+00],\n",
       "       [-1.49561751e+00],\n",
       "       [-1.75684643e+00],\n",
       "       [-1.28593862e+00],\n",
       "       [-8.14132214e-01],\n",
       "       [-4.60507452e-01],\n",
       "       [ 2.43446410e-01],\n",
       "       [-9.19898391e-01],\n",
       "       [ 7.28225410e-02],\n",
       "       [ 1.82446584e-01],\n",
       "       [-7.68309236e-01],\n",
       "       [-8.94479930e-01],\n",
       "       [-9.25033391e-01],\n",
       "       [-7.81381726e-01],\n",
       "       [-9.05693620e-02],\n",
       "       [-3.72555733e-01],\n",
       "       [-7.15798795e-01],\n",
       "       [-3.17825705e-01],\n",
       "       [-1.39163339e+00],\n",
       "       [-1.39072406e+00],\n",
       "       [-1.99560940e+00],\n",
       "       [-2.40287948e+00],\n",
       "       [-3.21687341e+00],\n",
       "       [-3.35685062e+00],\n",
       "       [-3.42734051e+00],\n",
       "       [-2.83787370e+00]], dtype=float32)"
      ]
     },
     "execution_count": 62,
     "metadata": {},
     "output_type": "execute_result"
    }
   ],
   "source": [
    "pred_y = model.predict(X_test)\n",
    "pred_y"
   ]
  },
  {
   "cell_type": "code",
   "execution_count": 63,
   "metadata": {
    "ExecuteTime": {
     "end_time": "2022-06-19T12:10:37.192386Z",
     "start_time": "2022-06-19T12:10:37.164108Z"
    }
   },
   "outputs": [],
   "source": [
    "real_y = []\n",
    "\n",
    "for i in range(200):\n",
    "    x = _X_test[i]\n",
    "    real_y.append(pred_y[i]*(x.std(axis=0)[1]) + x.mean(axis=0)[1])"
   ]
  },
  {
   "cell_type": "code",
   "execution_count": 64,
   "metadata": {
    "ExecuteTime": {
     "end_time": "2022-06-19T12:10:37.207940Z",
     "start_time": "2022-06-19T12:10:37.196385Z"
    }
   },
   "outputs": [],
   "source": [
    "real_y = np.array(real_y)"
   ]
  },
  {
   "cell_type": "code",
   "execution_count": 65,
   "metadata": {
    "ExecuteTime": {
     "end_time": "2022-06-19T12:10:37.430849Z",
     "start_time": "2022-06-19T12:10:37.210942Z"
    }
   },
   "outputs": [
    {
     "data": {
      "text/plain": [
       "Text(0.5, 1.0, 'Samsung - Stock price')"
      ]
     },
     "execution_count": 65,
     "metadata": {},
     "output_type": "execute_result"
    },
    {
     "data": {
      "image/png": "[encoded data removed]",
      "text/plain": [
       "<Figure size 864x432 with 1 Axes>"
      ]
     },
     "metadata": {
      "needs_background": "light"
     },
     "output_type": "display_data"
    }
   ],
   "source": [
    "plt.figure(figsize=[12,6])\n",
    "plt.plot(real_y.ravel(), 'r-', label='pred_y')\n",
    "plt.plot(_y_test.ravel(), 'b-', label='y_test')\n",
    "#plt.plot((real_y-_y_test).ravel()*50, 'g-', label='diff*10')\n",
    "plt.legend()\n",
    "plt.title('Samsung - Stock price')"
   ]
  },
  {
   "cell_type": "markdown",
   "metadata": {},
   "source": [
    "- 위의 결과는 그럴듯해 보이지만 사실은 엉터리이다\n",
    "- 바로 하루전의 주가로 예측한 것일 뿐이다"
   ]
  },
  {
   "cell_type": "code",
   "execution_count": 68,
   "metadata": {
    "ExecuteTime": {
     "end_time": "2022-06-19T12:19:35.955305Z",
     "start_time": "2022-06-19T12:19:35.728346Z"
    }
   },
   "outputs": [
    {
     "data": {
      "text/plain": [
       "Text(0.5, 1.0, 'Samsung - Stock price')"
      ]
     },
     "execution_count": 68,
     "metadata": {},
     "output_type": "execute_result"
    },
    {
     "data": {
      "image/png": "[encoded data removed]",
      "text/plain": [
       "<Figure size 864x432 with 1 Axes>"
      ]
     },
     "metadata": {
      "needs_background": "light"
     },
     "output_type": "display_data"
    }
   ],
   "source": [
    "plt.figure(figsize=[12,6])\n",
    "plt.plot(real_y.ravel()[1:], 'r-', label='pred_y')\n",
    "plt.plot(_y_test.ravel(), 'b-', label='y_test')\n",
    "#plt.plot((real_y-_y_test).ravel()*50, 'g-', label='diff*10')\n",
    "plt.legend()\n",
    "plt.title('Samsung - Stock price')"
   ]
  },
  {
   "cell_type": "code",
   "execution_count": null,
   "metadata": {},
   "outputs": [],
   "source": []
  }
 ],
 "metadata": {
  "kernelspec": {
   "display_name": "Python 3 (ipykernel)",
   "language": "python",
   "name": "python3"
  },
  "language_info": {
   "codemirror_mode": {
    "name": "ipython",
    "version": 3
   },
   "file_extension": ".py",
   "mimetype": "text/x-python",
   "name": "python",
   "nbconvert_exporter": "python",
   "pygments_lexer": "ipython3",
   "version": "3.8.8"
  },
  "toc": {
   "base_numbering": 1,
   "nav_menu": {},
   "number_sections": true,
   "sideBar": true,
   "skip_h1_title": false,
   "title_cell": "Table of Contents",
   "title_sidebar": "Contents",
   "toc_cell": false,
   "toc_position": {},
   "toc_section_display": true,
   "toc_window_display": false
  }
 },
 "nbformat": 4,
 "nbformat_minor": 2
}
