{
 "cells": [
  {
   "cell_type": "markdown",
   "metadata": {},
   "source": [
    "## 자연어 처리 딥러닝\n",
    "# Attention\n",
    "- https://towardsdatascience.com/attn-illustrated-attention-5ec4ad276ee3\n",
    "<img src='https://miro.medium.com/max/700/1*qN2Pj5J4VqAFf7dsA2dHpA.png' />"
   ]
  },
  {
   "cell_type": "markdown",
   "metadata": {},
   "source": [
    "<img src='https://1.bp.blogspot.com/-AVGK0ApREtk/WaiAuzddKVI/AAAAAAAAB_A/WPV5ropBU-cxrcMpqJBFHg73K9NX4vywwCLcBGAs/s640/image2.png' />"
   ]
  },
  {
   "cell_type": "code",
   "execution_count": 2,
   "metadata": {
    "ExecuteTime": {
     "end_time": "2022-06-19T12:43:25.080939Z",
     "start_time": "2022-06-19T12:43:25.075944Z"
    }
   },
   "outputs": [],
   "source": [
    "import numpy as np\n",
    "import matplotlib.pyplot as plt\n",
    "import pandas as pd\n",
    "\n",
    "import tensorflow as tf\n",
    "from tensorflow import keras"
   ]
  },
  {
   "cell_type": "markdown",
   "metadata": {},
   "source": [
    "### seq2seq 모델에 적용"
   ]
  },
  {
   "cell_type": "code",
   "execution_count": 3,
   "metadata": {
    "ExecuteTime": {
     "end_time": "2022-06-19T12:43:26.734401Z",
     "start_time": "2022-06-19T12:43:26.724405Z"
    }
   },
   "outputs": [],
   "source": [
    "X_enc = np.random.randn(2,5,3).astype(np.float32) # np.float32\n",
    "X_dec = np.random.randn(2,4,3).astype(np.float32) # np.float32"
   ]
  },
  {
   "cell_type": "code",
   "execution_count": 4,
   "metadata": {
    "ExecuteTime": {
     "end_time": "2022-06-19T12:43:26.999894Z",
     "start_time": "2022-06-19T12:43:26.932924Z"
    }
   },
   "outputs": [],
   "source": [
    "lstm_enc = keras.layers.LSTM(3, return_sequences=True, return_state=True)\n",
    "lstm_dec = keras.layers.LSTM(3)"
   ]
  },
  {
   "cell_type": "code",
   "execution_count": 5,
   "metadata": {
    "ExecuteTime": {
     "end_time": "2022-06-19T12:43:27.234891Z",
     "start_time": "2022-06-19T12:43:27.142925Z"
    }
   },
   "outputs": [
    {
     "data": {
      "text/plain": [
       "(TensorShape([2, 5, 3]), TensorShape([2, 3]), TensorShape([2, 3]))"
      ]
     },
     "execution_count": 5,
     "metadata": {},
     "output_type": "execute_result"
    }
   ],
   "source": [
    "y, h, c = lstm_enc(X_enc)\n",
    "\n",
    "y.shape, h.shape, c.shape"
   ]
  },
  {
   "cell_type": "markdown",
   "metadata": {},
   "source": [
    "- attention 계산"
   ]
  },
  {
   "cell_type": "code",
   "execution_count": 11,
   "metadata": {
    "ExecuteTime": {
     "end_time": "2022-06-19T12:43:54.949101Z",
     "start_time": "2022-06-19T12:43:54.935109Z"
    }
   },
   "outputs": [],
   "source": [
    "W = keras.layers.Dense(3) # 인코더의 출력값(y)에 곱해준다"
   ]
  },
  {
   "cell_type": "code",
   "execution_count": 12,
   "metadata": {
    "ExecuteTime": {
     "end_time": "2022-06-19T12:43:55.155151Z",
     "start_time": "2022-06-19T12:43:55.136160Z"
    }
   },
   "outputs": [
    {
     "data": {
      "text/plain": [
       "TensorShape([2, 4, 5])"
      ]
     },
     "execution_count": 12,
     "metadata": {},
     "output_type": "execute_result"
    }
   ],
   "source": [
    "score = tf.matmul(X_dec, W(y), transpose_b=True)\n",
    "\n",
    "score.shape"
   ]
  },
  {
   "cell_type": "code",
   "execution_count": 13,
   "metadata": {
    "ExecuteTime": {
     "end_time": "2022-06-19T12:43:55.407417Z",
     "start_time": "2022-06-19T12:43:55.376432Z"
    }
   },
   "outputs": [
    {
     "data": {
      "text/plain": [
       "TensorShape([2, 4, 5])"
      ]
     },
     "execution_count": 13,
     "metadata": {},
     "output_type": "execute_result"
    }
   ],
   "source": [
    "alignment = tf.math.softmax(score)\n",
    "alignment.shape"
   ]
  },
  {
   "cell_type": "code",
   "execution_count": 14,
   "metadata": {
    "ExecuteTime": {
     "end_time": "2022-06-19T12:43:55.658627Z",
     "start_time": "2022-06-19T12:43:55.644638Z"
    }
   },
   "outputs": [
    {
     "data": {
      "text/plain": [
       "TensorShape([2, 4, 3])"
      ]
     },
     "execution_count": 14,
     "metadata": {},
     "output_type": "execute_result"
    }
   ],
   "source": [
    "context = tf.matmul(alignment, y)\n",
    "context.shape"
   ]
  },
  {
   "cell_type": "markdown",
   "metadata": {},
   "source": [
    "- 디코더 입력값에 context 를 붙여서 디코더에 입력한다"
   ]
  },
  {
   "cell_type": "code",
   "execution_count": 15,
   "metadata": {
    "ExecuteTime": {
     "end_time": "2022-06-19T12:43:56.178181Z",
     "start_time": "2022-06-19T12:43:56.156191Z"
    }
   },
   "outputs": [
    {
     "data": {
      "text/plain": [
       "TensorShape([2, 4, 6])"
      ]
     },
     "execution_count": 15,
     "metadata": {},
     "output_type": "execute_result"
    }
   ],
   "source": [
    "x = tf.concat([X_dec, context], axis=-1)\n",
    "x.shape"
   ]
  },
  {
   "cell_type": "code",
   "execution_count": 16,
   "metadata": {
    "ExecuteTime": {
     "end_time": "2022-06-19T12:43:56.429151Z",
     "start_time": "2022-06-19T12:43:56.398188Z"
    }
   },
   "outputs": [
    {
     "data": {
      "text/plain": [
       "TensorShape([2, 3])"
      ]
     },
     "execution_count": 16,
     "metadata": {},
     "output_type": "execute_result"
    }
   ],
   "source": [
    "result = lstm_dec(x, initial_state=[h,c])\n",
    "result.shape"
   ]
  },
  {
   "cell_type": "code",
   "execution_count": null,
   "metadata": {
    "ExecuteTime": {
     "end_time": "2022-06-19T12:48:08.119721Z",
     "start_time": "2022-06-19T12:48:08.103731Z"
    }
   },
   "outputs": [],
   "source": []
  },
  {
   "cell_type": "markdown",
   "metadata": {},
   "source": [
    "### keras.layers.Attention\n",
    "- query : 디코더 입력값\n",
    "- key : 인코더 상태값 (score 계산에 사용)\n",
    "- value : 일반적으로 key 와 동일한 값 (context 계산에 사용)"
   ]
  },
  {
   "cell_type": "code",
   "execution_count": 17,
   "metadata": {
    "ExecuteTime": {
     "end_time": "2022-06-19T12:43:56.931161Z",
     "start_time": "2022-06-19T12:43:56.915172Z"
    }
   },
   "outputs": [],
   "source": [
    "att = keras.layers.Attention()"
   ]
  },
  {
   "cell_type": "code",
   "execution_count": 18,
   "metadata": {
    "ExecuteTime": {
     "end_time": "2022-06-19T12:43:57.227948Z",
     "start_time": "2022-06-19T12:43:57.213958Z"
    }
   },
   "outputs": [
    {
     "data": {
      "text/plain": [
       "TensorShape([2, 4, 3])"
      ]
     },
     "execution_count": 18,
     "metadata": {},
     "output_type": "execute_result"
    }
   ],
   "source": [
    "context2 = att([X_dec, y])\n",
    "context2.shape"
   ]
  },
  {
   "cell_type": "markdown",
   "metadata": {},
   "source": [
    "- 직접 계산값과 비교 (W 를 적용하지 않음)"
   ]
  },
  {
   "cell_type": "code",
   "execution_count": 19,
   "metadata": {
    "ExecuteTime": {
     "end_time": "2022-06-19T12:43:57.652309Z",
     "start_time": "2022-06-19T12:43:57.632297Z"
    }
   },
   "outputs": [
    {
     "data": {
      "text/plain": [
       "<tf.Tensor: shape=(2, 4, 3), dtype=float32, numpy=\n",
       "array([[[-0.10625303, -0.11075789, -0.08585775],\n",
       "        [-0.13907228, -0.10923996, -0.06157244],\n",
       "        [-0.11387325, -0.10999321, -0.06892427],\n",
       "        [-0.11399966, -0.11031871, -0.07852577]],\n",
       "\n",
       "       [[-0.0005033 ,  0.05401512,  0.03346653],\n",
       "        [-0.00695398,  0.06522242,  0.03864483],\n",
       "        [-0.0138316 ,  0.06081258,  0.07345709],\n",
       "        [ 0.00128573,  0.05015335,  0.02353917]]], dtype=float32)>"
      ]
     },
     "execution_count": 19,
     "metadata": {},
     "output_type": "execute_result"
    }
   ],
   "source": [
    "tf.matmul(tf.nn.softmax(tf.matmul(X_dec, y, transpose_b=True)), y)"
   ]
  },
  {
   "cell_type": "code",
   "execution_count": 20,
   "metadata": {
    "ExecuteTime": {
     "end_time": "2022-06-19T12:43:57.887162Z",
     "start_time": "2022-06-19T12:43:57.866175Z"
    }
   },
   "outputs": [
    {
     "data": {
      "text/plain": [
       "<tf.Tensor: shape=(2, 4, 3), dtype=float32, numpy=\n",
       "array([[[-0.10625303, -0.11075789, -0.08585775],\n",
       "        [-0.13907228, -0.10923996, -0.06157244],\n",
       "        [-0.11387325, -0.10999321, -0.06892427],\n",
       "        [-0.11399966, -0.11031871, -0.07852577]],\n",
       "\n",
       "       [[-0.0005033 ,  0.05401512,  0.03346653],\n",
       "        [-0.00695398,  0.06522242,  0.03864483],\n",
       "        [-0.0138316 ,  0.06081258,  0.07345709],\n",
       "        [ 0.00128573,  0.05015335,  0.02353917]]], dtype=float32)>"
      ]
     },
     "execution_count": 20,
     "metadata": {},
     "output_type": "execute_result"
    }
   ],
   "source": [
    "context2"
   ]
  },
  {
   "cell_type": "markdown",
   "metadata": {},
   "source": [
    "### keras.layers.MultiHeadAttention\n",
    "- Attention is all you Need 논문 (Transformer)\n",
    "<img src='http://jalammar.github.io/images/t/transformer_resideual_layer_norm_3.png' />"
   ]
  },
  {
   "cell_type": "code",
   "execution_count": 21,
   "metadata": {
    "ExecuteTime": {
     "end_time": "2022-06-19T12:43:58.373169Z",
     "start_time": "2022-06-19T12:43:58.360176Z"
    }
   },
   "outputs": [],
   "source": [
    "mhead = keras.layers.MultiHeadAttention(num_heads=2, key_dim=2)"
   ]
  },
  {
   "cell_type": "code",
   "execution_count": 22,
   "metadata": {
    "ExecuteTime": {
     "end_time": "2022-06-19T12:43:58.699203Z",
     "start_time": "2022-06-19T12:43:58.646231Z"
    }
   },
   "outputs": [
    {
     "data": {
      "text/plain": [
       "(TensorShape([2, 4, 3]), TensorShape([2, 2, 4, 5]))"
      ]
     },
     "execution_count": 22,
     "metadata": {},
     "output_type": "execute_result"
    }
   ],
   "source": [
    "context3, scores = mhead(X_dec, y, return_attention_scores=True)\n",
    "context3.shape, scores.shape # scores -> (batch, mhead, dec, inc)"
   ]
  },
  {
   "cell_type": "markdown",
   "metadata": {},
   "source": [
    "- self-attention"
   ]
  },
  {
   "cell_type": "code",
   "execution_count": 23,
   "metadata": {
    "ExecuteTime": {
     "end_time": "2022-06-19T12:43:59.120168Z",
     "start_time": "2022-06-19T12:43:59.102178Z"
    }
   },
   "outputs": [
    {
     "data": {
      "text/plain": [
       "(TensorShape([2, 4, 3]), TensorShape([2, 2, 4, 4]))"
      ]
     },
     "execution_count": 23,
     "metadata": {},
     "output_type": "execute_result"
    }
   ],
   "source": [
    "context4, scores = mhead(X_dec, X_dec, return_attention_scores=True)\n",
    "context4.shape, scores.shape # scores -> (batch, mhead, dec, inc)"
   ]
  },
  {
   "cell_type": "code",
   "execution_count": null,
   "metadata": {},
   "outputs": [],
   "source": []
  },
  {
   "cell_type": "markdown",
   "metadata": {},
   "source": [
    "### 최신 언어 딥러닝 모델\n",
    "- transformer : http://jalammar.github.io/illustrated-transformer/\n",
    "- BERT : http://jalammar.github.io/illustrated-bert/\n",
    "- GPT-3 : http://jalammar.github.io/how-gpt3-works-visualizations-animations/"
   ]
  },
  {
   "cell_type": "code",
   "execution_count": null,
   "metadata": {},
   "outputs": [],
   "source": []
  }
 ],
 "metadata": {
  "kernelspec": {
   "display_name": "Python 3 (ipykernel)",
   "language": "python",
   "name": "python3"
  },
  "language_info": {
   "codemirror_mode": {
    "name": "ipython",
    "version": 3
   },
   "file_extension": ".py",
   "mimetype": "text/x-python",
   "name": "python",
   "nbconvert_exporter": "python",
   "pygments_lexer": "ipython3",
   "version": "3.8.8"
  },
  "toc": {
   "base_numbering": 1,
   "nav_menu": {},
   "number_sections": true,
   "sideBar": true,
   "skip_h1_title": false,
   "title_cell": "Table of Contents",
   "title_sidebar": "Contents",
   "toc_cell": false,
   "toc_position": {},
   "toc_section_display": true,
   "toc_window_display": false
  }
 },
 "nbformat": 4,
 "nbformat_minor": 4
}
